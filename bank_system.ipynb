{
 "cells": [
  {
   "cell_type": "code",
   "execution_count": 1,
   "metadata": {},
   "outputs": [],
   "source": [
    "class User():\n",
    "    \n",
    "    def __init__(self , name , age , gender , balance):\n",
    "        self.name = name \n",
    "        self.age = age \n",
    "        self.gender = gender \n",
    "        self.balance = balance \n",
    "        \n",
    "        \n",
    "    def Display(self):\n",
    "        print(f'''\n",
    "        name : {self.name}\n",
    "        age : {self.age}\n",
    "        gender : {self.gender}\n",
    "        balance : {self.balance}\n",
    "        ''')"
   ]
  },
  {
   "cell_type": "code",
   "execution_count": 2,
   "metadata": {},
   "outputs": [],
   "source": [
    "class Bank(User):\n",
    "    \n",
    "    def Deposite(self , amount ):\n",
    "        self.balance += amount\n",
    "        \n",
    "        \n",
    "    def Withdraw(self , amount):\n",
    "        \n",
    "        if amount <= self.balance:\n",
    "            self.balance -= amount\n",
    "            print('Done!')\n",
    "        else :\n",
    "            print('not enougth money')\n",
    "            \n",
    "    def ViewBalance(self):\n",
    "        print(f'{self.balance}')"
   ]
  },
  {
   "cell_type": "code",
   "execution_count": 3,
   "metadata": {},
   "outputs": [],
   "source": [
    "class CIB(Bank):\n",
    "    \n",
    "    def LoanApp(self , amount , duration):\n",
    "        if amount < 1000_000:\n",
    "            print('Done!')\n",
    "            \n",
    "            \n",
    "        else :\n",
    "            print('max loan one million')\n",
    "            \n",
    "            \n",
    "            \n",
    "class QNB(Bank):\n",
    "    \n",
    "    def LoanApp(self , amount , duration):\n",
    "        if amount < 2000_000:\n",
    "            print('Done!')\n",
    "            \n",
    "            \n",
    "        else :\n",
    "            print('max loan two million')"
   ]
  },
  {
   "cell_type": "code",
   "execution_count": null,
   "metadata": {},
   "outputs": [],
   "source": []
  }
 ],
 "metadata": {
  "kernelspec": {
   "display_name": "DS",
   "language": "python",
   "name": "python3"
  },
  "language_info": {
   "codemirror_mode": {
    "name": "ipython",
    "version": 3
   },
   "file_extension": ".py",
   "mimetype": "text/x-python",
   "name": "python",
   "nbconvert_exporter": "python",
   "pygments_lexer": "ipython3",
   "version": "3.10.8"
  },
  "orig_nbformat": 4
 },
 "nbformat": 4,
 "nbformat_minor": 2
}
